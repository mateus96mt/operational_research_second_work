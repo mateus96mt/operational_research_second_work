{
  "nbformat": 4,
  "nbformat_minor": 0,
  "metadata": {
    "colab": {
      "name": "TRAB2-PO-MATEUS-TEIXEIRA-MAGALHAES.ipynb",
      "provenance": [],
      "collapsed_sections": [
        "kpS1GcdBltOp",
        "PG8UijxVmoQh",
        "HFl8tFRZ0EaR",
        "a0tQaSNdDcWJ",
        "qSSEVt8Q1K8k",
        "NLgerUN11PhK",
        "n6pz3B43ngrV",
        "_-_CQ5oKnjEG",
        "0ms7rhpYnoz6",
        "TTvZFVNnuNfw",
        "qzW52agmv4Vw",
        "m97BdxCWyMjg",
        "hHP7agl8EBij",
        "MSPa9M7gHYMp",
        "k_JZexEON16K",
        "7z3ixH7MN5yo",
        "JMtaw88oN-oR",
        "w6QGwUVYOZir"
      ],
      "authorship_tag": "ABX9TyOyAZuXUlA8s3PaR/tYWFV6",
      "include_colab_link": true
    },
    "kernelspec": {
      "name": "python3",
      "display_name": "Python 3"
    }
  },
  "cells": [
    {
      "cell_type": "markdown",
      "metadata": {
        "id": "view-in-github",
        "colab_type": "text"
      },
      "source": [
        "<a href=\"https://colab.research.google.com/github/mateus96mt/operational_research_second_work/blob/main/TRAB2_PO_MATEUS_TEIXEIRA_MAGALHAES.ipynb\" target=\"_parent\"><img src=\"https://colab.research.google.com/assets/colab-badge.svg\" alt=\"Open In Colab\"/></a>"
      ]
    },
    {
      "cell_type": "markdown",
      "metadata": {
        "id": "kpS1GcdBltOp"
      },
      "source": [
        "#**Problema modelo (https://www.gurobi.com/resource/food-manufacturing-i-and-ii/ (modelo i)):**\n",
        "---\n"
      ]
    },
    {
      "cell_type": "markdown",
      "metadata": {
        "id": "PG8UijxVmoQh"
      },
      "source": [
        "###Descrição resumida:\n",
        "\n",
        "Um produtor precisa refinar óleos pra produzir um produto alimentício comercializável. Os tipos de óleo necessários podem ser dividigos em 2 categorias:"
      ]
    },
    {
      "cell_type": "markdown",
      "metadata": {
        "id": "ySKzZh4zsFZJ"
      },
      "source": [
        "| Categoria        | óleo         |\n",
        "| ------------- |-------------| \n",
        "| Óleos vegetais:|  VEG 1<br>VEG 2 | \n",
        "| Óleos não-vegetais:     | OIL 1<br>OIL 2<br>OIL 3      |"
      ]
    },
    {
      "cell_type": "markdown",
      "metadata": {
        "id": "B2lHmGBrsUSh"
      },
      "source": [
        "O produtor pode escolher entre comprar os óleos no mês atual ou em meses futuros, o preço em dólares/tonelada para se comprar no mês atual ou nos seguintes é dado pela tabela:"
      ]
    },
    {
      "cell_type": "markdown",
      "metadata": {
        "id": "HR39gNQ0shP6"
      },
      "source": [
        "| Mês |\tVEG 1 |\tVEG 2 |\tOIL 1 |\tOIL 2 |\tOIL 3|\n",
        "| ------------- |-------------| -------------| -------------| -------------| -------------| \n",
        "| Janeiro| 110 |\t120 |\t130 |\t110 |\t115|\n",
        "| Fevereiro |130 |\t130 |\t110 |\t90|\t115|\n",
        "| Março |110 |\t140 |\t130 |\t100 |\t95|\n",
        "| Abril |120 |\t110 |\t120 |\t120 |\t125|\n",
        "| Maio | 100 |\t120 |\t150 |\t110 |\t105|\n",
        "| Junho |  \t90 |\t100 |\t140 |\t80| \t135 |"
      ]
    },
    {
      "cell_type": "markdown",
      "metadata": {
        "id": "lSdyY0fMsw2m"
      },
      "source": [
        "Outros fatores que devem ser levados em consideração:\n",
        "\n",
        "\n",
        "\n",
        "1.   O produto final é vendido por $150 a tonelada.\n",
        "2.   Cada categoria de óleo precisa ser refinada em uma refinaria diferente.\n",
        "3.   A capacidade de refinamento, em qualquer mês, é fixa de 200 toneladas de óleo vegetal e 250 de óleo não-vegetal.\n",
        "4.   Não existe perda no refinamento dos óleos, os óleos mandados para refinaria serão produzidos totalmente em óleos refinados.\n",
        "5.   O custo para refinamento dos óleos pode ser ignorado.\n",
        "\n"
      ]
    },
    {
      "cell_type": "markdown",
      "metadata": {
        "id": "rcZS3h54t-P4"
      },
      "source": [
        "Além das restrições acima existe uma restrição relacionada com a quantidade de óleos brutos (não-refinados) que pode ser armazedado para uso futuro, 1.000 toneladas para cada óleo a um custo de $5 por tonelada/mês. O produto alimentício produzido não pode ser armazenado nem os óleos refinados, somente os óleos brutos podem ser armazenados."
      ]
    },
    {
      "cell_type": "markdown",
      "metadata": {
        "id": "vB29Mp4KwHLQ"
      },
      "source": [
        "A última restrição é que o produto final produzido com os óleos deve ter um fator de \"dureza\" entre 3 e 6 em uma dada escala de \"dureza\". Considerando que a \"dureza\" é combinada de forma linear na produção do produto, temos a tabela a seguir:"
      ]
    },
    {
      "cell_type": "markdown",
      "metadata": {
        "id": "FTgsFEV6wmjK"
      },
      "source": [
        "|óleos |\t\"Dureza\"|\n",
        "| ------------- |-------------| \n",
        "|VEG 1 |\t8.8|\n",
        "|VEG 2 |\t6.1|\n",
        "|OIL 1 |\t2.0|\n",
        "|OIL2 |\t4.2|\n",
        "|OIL 3| \t5.0|"
      ]
    },
    {
      "cell_type": "markdown",
      "metadata": {
        "id": "tH6Ld4ArxGFI"
      },
      "source": [
        "No início de Janeiro, existem 500 toneladas de cada tipo de óleo armazenado e para proposta do modelo essa também deve ser a quantidade armazenada no fim do mês de Junho."
      ]
    },
    {
      "cell_type": "markdown",
      "metadata": {
        "id": "1SeyaVuNutSy"
      },
      "source": [
        "**Objetivo:** descobrir os melhores meses para compra e manufatura de forma a maximizar os lucros."
      ]
    },
    {
      "cell_type": "markdown",
      "metadata": {
        "id": "SWVDysMi0UNo"
      },
      "source": [
        "Antes de fazermos modificações nos valores de entrada do modelo, vamos primeiro entender a modalegem matemática do problema original, isso porque:\n",
        "\n",
        "\n",
        "\n",
        "*   A modelagem matemática do problema orignal pode ser utilizado no problema com valores de entrada alterados\n",
        "*   Entendendo a modelagem matemática do problema original e sua solução podemos vislumbrar valores que impactam na solução do problema e gerar alterações que fazem mais sentido para um problema com valores modificados o que ajuda na verificação das diferenças e enálise de sensibilidade no modelo do problema com valores modificados\n",
        "\n"
      ]
    },
    {
      "cell_type": "markdown",
      "metadata": {
        "id": "HFl8tFRZ0EaR"
      },
      "source": [
        "###Modelagem matemática:\n"
      ]
    },
    {
      "cell_type": "markdown",
      "metadata": {
        "id": "aJesvf9q1W9q"
      },
      "source": [
        "**Conjuntos e índices:**\n",
        "\n",
        "$t\\in Meses = \\{Jan, Fev, Mar, Abr, Mai, Jun\\}$: conjunto de meses.\n",
        "\n",
        "$V=\\{VEG1, VEG2\\}$:conjunto de óleos vegetais\n",
        "\n",
        "$N = \\{OIL1, OIL2,OIL3\\}$:conjunto de óleos não-vegetais\n",
        "\n",
        "$o \\in \\text{Oils} = V \\cup N$: conjunto de óleos."
      ]
    },
    {
      "cell_type": "markdown",
      "metadata": {
        "id": "6ITbtpKb4y2h"
      },
      "source": [
        "**Parâmetros:**\n",
        "\n",
        "$\\text{price} \\in \\mathbb{R}^+$: Preço de venda do produto.\n",
        "\n",
        "$\\text{init_store} \\in \\mathbb{R}^+$: Armazenamento inicial em toneladas.\n",
        "\n",
        "$\\text{target_store} \\in \\mathbb{R}^+$: Quantidade alvo a ser armazenada em toneladas.\n",
        "\n",
        "$\\text{holding_cost} \\in \\mathbb{R}^+$: Custo de armazenamento (dolar/ton/mês).\n",
        "\n",
        "$\\text{veg_cap} \\in \\mathbb{R}^+$: Capacidade de refinamento de óleo vegetal (ton/mês).\n",
        "\n",
        "$\\text{oil_cap} \\in \\mathbb{R}^+$: Capacidade de refinamento de óleo não-vegetal (ton/mês).\n",
        "\n",
        "$\\text{min_hardness} \\in \\mathbb{R}^+$: Dureza mínima permitida para produto final.\n",
        "\n",
        "$\\text{max_hardness} \\in \\mathbb{R}^+$: Dureza máxima permitida para produto final.\n",
        "\n",
        "$\\text{hardness}_o \\in \\mathbb{R}^+$: Dureza do óleo $o$.\n",
        "\n",
        "$\\text{cost}_{t,o} \\in \\mathbb{R}^+$: Custo estimado para compra de óleo $o$ no mês $t$."
      ]
    },
    {
      "cell_type": "markdown",
      "metadata": {
        "id": "x8-C624L40Pg"
      },
      "source": [
        "**Variáveis de decisão:**\n",
        "\n",
        "$\\text{produce}_t \\in \\mathbb{R}^+$: Toneladas de comida produzida no mês $t$.\n",
        "\n",
        "$\\text{buy}_{t,o} \\in \\mathbb{R}^+$: Toneladas de óleo $o$ comprada no mês $t$.\n",
        "\n",
        "$\\text{consume}_{t,o} \\in \\mathbb{R}^+$: Toneladas de óleo $o$ usada no mês $t$.\n",
        "\n",
        "$\\text{store}_{t,o} \\in \\mathbb{R}^+$: Toneladas de óleo $o$ armazenada no mês $t$.\n"
      ]
    },
    {
      "cell_type": "markdown",
      "metadata": {
        "id": "l0ubt2HT5vMp"
      },
      "source": [
        "**Função objetivo:**\n",
        "\n",
        "Maximizar o lucro total (dolar) no horizonte de planejamento:\n",
        "\n",
        "\\begin{equation}\n",
        "\\text{Maximize} \\quad Z = \\sum_{t \\in \\text{Months}}\\text{price}*\\text{produce}_t - \\sum_{t \\in \\text{Months}}\\sum_{o \\in \\text{Oils}}(\\text{cost}_{t,o}*\\text{consume}_{t,o} + \\text{holding_cost}*\\text{store}_{t,o})\n",
        "\\tag{0}\n",
        "\\end{equation}"
      ]
    },
    {
      "cell_type": "markdown",
      "metadata": {
        "id": "Gvxupdox67WQ"
      },
      "source": [
        "**Restrições:**\n",
        "\n",
        "- **Balanço inicial:** As toneladas de óleo $o$ compradas em janeiro somadas com a quantidade previamente armazenada deve ser igual a consumida e armazenada no mesmo mês.\n",
        "\n",
        "\\begin{equation}\n",
        "\\text{init_store} + \\text{buy}_{Jan,o} = \\text{consume}_{Jan,o} + \\text{store}_{Jan,o} \\quad \\forall o \\in \\text{Oils}\n",
        "\\tag{1}\n",
        "\\end{equation}\n",
        "\n",
        "- **Balanço:** As toneladas de óleo $o$ compradas no mês $t$ e as previamente armazenadas devem ser iguais as consumidas e armazenadas naquele mês.\n",
        "\n",
        "\\begin{equation}\n",
        "\\text{store}_{t-1,o} + \\text{buy}_{t,o} = \\text{consume}_{t,o} + \\text{store}_{t,o} \\quad \\forall (t,o) \\in \\text{Meses} - \\{\\text{Jan}\\} \\times \\text{Oils}\n",
        "\\tag{2}\n",
        "\\end{equation}\n",
        "\n",
        "- **Objetivo de armazenagem final**: As toneladas de óleo $o$ armazenadas no fim do planejamento (fim de Junho) deve ser igual a almejada.\n",
        "\n",
        "\\begin{equation}\n",
        "\\text{store}_{Jun,o} = \\text{target_store} \\quad \\forall o \\in \\text{Oils}\n",
        "\\tag{3}\n",
        "\\end{equation}\n",
        "\n",
        "- **Capacidade de refinamento**: Quantidade de toneladas totais de óleo $o$ consumida no mês $t$ não pode exceder a capacidade de refinamento.\n",
        "\n",
        "\\begin{equation}\n",
        "\\sum_{o \\in V}\\text{consume}_{t,o} \\leq \\text{veg_cap} \\quad \\forall t \\in \\text{Meses}\n",
        "\\tag{4.1}\n",
        "\\end{equation}\n",
        "\n",
        "\\begin{equation}\n",
        "\\sum_{o \\in N}\\text{consume}_{t,o} \\leq \\text{oil_cap} \\quad \\forall t \\in \\text{Meses}\n",
        "\\tag{4.2}\n",
        "\\end{equation}\n",
        "\n",
        "- **Dureza**: A dureza do produto produzido no mês $t$ deve respeitar a tolerância.\n",
        "\n",
        "\\begin{equation}\n",
        "\\text{min_hardness}*\\text{produce}_t \\leq \\sum_{o \\in \\text{Oils}} \\text{hardness}_o*\\text{consume}_{t,o} \\leq \\text{max_hardness}*\\text{produce}_t \\quad \\forall t \\in \\text{Meses}\n",
        "\\tag{5}\n",
        "\\end{equation}\n",
        "\n",
        "- **Conservação de massa**: A quantidade total de toneladas de óleo consumidas no mês $t$ deve ser igual a quantidade total de comida produzida naquele mês.\n",
        "\n",
        "\\begin{equation}\n",
        "\\sum_{o \\in \\text{Oils}}\\text{consume}_{t,o} = \\text{produce}_t \\quad \\forall t \\in \\text{Months}\n",
        "\\tag{6}\n",
        "\\end{equation}"
      ]
    },
    {
      "cell_type": "markdown",
      "metadata": {
        "id": "a0tQaSNdDcWJ"
      },
      "source": [
        "#**Solução do problema modelo usando Gurobi:**\n",
        "---\n",
        "\n",
        "Vamos agora implementar o modelo no python usando o Gurobi e resolve-lo."
      ]
    },
    {
      "cell_type": "markdown",
      "metadata": {
        "id": "qSSEVt8Q1K8k"
      },
      "source": [
        "###Instalando o Gurobi:"
      ]
    },
    {
      "cell_type": "code",
      "metadata": {
        "colab": {
          "base_uri": "https://localhost:8080/"
        },
        "id": "-XwjS6jdD6vK",
        "outputId": "e488985c-fb0d-4332-e92a-9b63ee893911"
      },
      "source": [
        "#Instalando a biblioteca do Gurobi\n",
        "%pip install -i https://pypi.gurobi.com gurobipy"
      ],
      "execution_count": 46,
      "outputs": [
        {
          "output_type": "stream",
          "text": [
            "Looking in indexes: https://pypi.gurobi.com\n",
            "Requirement already satisfied: gurobipy in /usr/local/lib/python3.7/dist-packages (9.1.1)\n"
          ],
          "name": "stdout"
        }
      ]
    },
    {
      "cell_type": "markdown",
      "metadata": {
        "id": "NLgerUN11PhK"
      },
      "source": [
        "###Importando Bibliotecas necessárias:\n",
        "\n",
        "\n"
      ]
    },
    {
      "cell_type": "code",
      "metadata": {
        "id": "QWKMlc88D90Y"
      },
      "source": [
        "#Importando bibliotecas auxiliares\n",
        "import numpy as np\n",
        "import pandas as pd\n",
        "\n",
        "import gurobipy as gp\n",
        "from gurobipy import GRB"
      ],
      "execution_count": 47,
      "outputs": []
    },
    {
      "cell_type": "markdown",
      "metadata": {
        "id": "n6pz3B43ngrV"
      },
      "source": [
        "###Parâmetros originais do problema modelo:\n"
      ]
    },
    {
      "cell_type": "code",
      "metadata": {
        "id": "4DPqtm3EF7OR"
      },
      "source": [
        "# Parameters\n",
        "\n",
        "months = [\"Jan\", \"Feb\", \"Mar\", \"Apr\", \"May\", \"Jun\"]\n",
        "\n",
        "oils = [\"VEG1\", \"VEG2\", \"OIL1\", \"OIL2\", \"OIL3\"]\n",
        "\n",
        "cost = {\n",
        "    ('Jan', 'VEG1'): 110,\n",
        "    ('Jan', 'VEG2'): 120,\n",
        "    ('Jan', 'OIL1'): 130,\n",
        "    ('Jan', 'OIL2'): 110,\n",
        "    ('Jan', 'OIL3'): 115,\n",
        "    ('Feb', 'VEG1'): 130,\n",
        "    ('Feb', 'VEG2'): 130,\n",
        "    ('Feb', 'OIL1'): 110,\n",
        "    ('Feb', 'OIL2'): 90,\n",
        "    ('Feb', 'OIL3'): 115,\n",
        "    ('Mar', 'VEG1'): 110,\n",
        "    ('Mar', 'VEG2'): 140,\n",
        "    ('Mar', 'OIL1'): 130,\n",
        "    ('Mar', 'OIL2'): 100,\n",
        "    ('Mar', 'OIL3'): 95,\n",
        "    ('Apr', 'VEG1'): 120,\n",
        "    ('Apr', 'VEG2'): 110,\n",
        "    ('Apr', 'OIL1'): 120,\n",
        "    ('Apr', 'OIL2'): 120,\n",
        "    ('Apr', 'OIL3'): 125,\n",
        "    ('May', 'VEG1'): 100,\n",
        "    ('May', 'VEG2'): 120,\n",
        "    ('May', 'OIL1'): 150,\n",
        "    ('May', 'OIL2'): 110,\n",
        "    ('May', 'OIL3'): 105,\n",
        "    ('Jun', 'VEG1'): 90,\n",
        "    ('Jun', 'VEG2'): 100,\n",
        "    ('Jun', 'OIL1'): 140,\n",
        "    ('Jun', 'OIL2'): 80,\n",
        "    ('Jun', 'OIL3'): 135\n",
        "}\n",
        "\n",
        "\n",
        "hardness = {\"VEG1\": 8.8, \"VEG2\": 6.1, \"OIL1\": 2.0, \"OIL2\": 4.2, \"OIL3\": 5.0}\n",
        "\n",
        "price = 150\n",
        "init_store = 500\n",
        "target_store = 500\n",
        "veg_cap = 200\n",
        "oil_cap = 250\n",
        "\n",
        "min_hardness = 3\n",
        "max_hardness = 6\n",
        "holding_cost = 5"
      ],
      "execution_count": 48,
      "outputs": []
    },
    {
      "cell_type": "markdown",
      "metadata": {
        "id": "_-_CQ5oKnjEG"
      },
      "source": [
        "###Variáveis de decisão:\n",
        "\n",
        "\n",
        "\n",
        "\n"
      ]
    },
    {
      "cell_type": "code",
      "metadata": {
        "id": "FMS-s47tmIZ3"
      },
      "source": [
        "food = gp.Model('Food Manufacture I')\n",
        "# Quantity of food produced in each period\n",
        "produce = food.addVars(months, name=\"Produce\")\n",
        "# Quantity bought of each product in each period\n",
        "buy = food.addVars(months, oils, name = \"Buy\")\n",
        "# Quantity used of each product  in each period\n",
        "consume = food.addVars(months, oils, name = \"Use\")\n",
        "# Quantity stored of each product  in each period\n",
        "store = food.addVars(months, oils, name = \"Store\")"
      ],
      "execution_count": 49,
      "outputs": []
    },
    {
      "cell_type": "markdown",
      "metadata": {
        "id": "0ms7rhpYnoz6"
      },
      "source": [
        "###Restrições:"
      ]
    },
    {
      "cell_type": "code",
      "metadata": {
        "id": "LHUEZNrOnVp-"
      },
      "source": [
        "#1. Initial Balance\n",
        "Balance0 = food.addConstrs((init_store + buy[months[0], oil]\n",
        "                 == consume[months[0], oil] + store[months[0], oil]\n",
        "                 for oil in oils), \"Initial_Balance\")\n",
        "\n",
        "#2. Balance\n",
        "Balance = food.addConstrs((store[months[months.index(month)-1], oil] + buy[month, oil]\n",
        "                 == consume[month, oil] + store[month, oil]\n",
        "                 for oil in oils for month in months if month != month[0]), \"Balance\")\n",
        "\n",
        "#3. Inventory Target\n",
        "TargetInv = food.addConstrs((store[months[-1], oil] == target_store for oil in oils),\"End_Balance\")\n",
        "\n",
        "#4.1 Vegetable Oil Capacity\n",
        "VegCapacity = food.addConstrs((gp.quicksum(consume[month, oil] for oil in oils if \"VEG\" in oil)\n",
        "                 <= veg_cap for month in months), \"Capacity_Veg\")\n",
        "\n",
        "#4.2 Non-vegetable Oil Capacity\n",
        "NonVegCapacity = food.addConstrs((gp.quicksum(consume[month, oil] for oil in oils if \"OIL\" in oil)\n",
        "                 <= oil_cap for month in months), \"Capacity_Oil\")\n",
        "\n",
        "#5. Hardness\n",
        "HardnessMin = food.addConstrs((gp.quicksum(hardness[oil]*consume[month, oil] for oil in oils)\n",
        "                 >= min_hardness*produce[month] for month in months), \"Hardness_lower\")\n",
        "HardnessMax = food.addConstrs((gp.quicksum(hardness[oil]*consume[month, oil] for oil in oils)\n",
        "                 <= max_hardness*produce[month] for month in months), \"Hardness_upper\")\n",
        "\n",
        "#6. Mass Conservation\n",
        "MassConservation = food.addConstrs((consume.sum(month) == produce[month] for month in months), \"Mass_conservation\")"
      ],
      "execution_count": 50,
      "outputs": []
    },
    {
      "cell_type": "markdown",
      "metadata": {
        "id": "TTvZFVNnuNfw"
      },
      "source": [
        "###Função objetivo:"
      ]
    },
    {
      "cell_type": "code",
      "metadata": {
        "id": "e8yH83s4uMqf"
      },
      "source": [
        "#0. Objective Function\n",
        "obj = price*produce.sum() - buy.prod(cost) - holding_cost*store.sum()\n",
        "food.setObjective(obj, GRB.MAXIMIZE) # maximize profit"
      ],
      "execution_count": 51,
      "outputs": []
    },
    {
      "cell_type": "markdown",
      "metadata": {
        "id": "qzW52agmv4Vw"
      },
      "source": [
        "###Otimizando o modelo com o Gurobi:\n"
      ]
    },
    {
      "cell_type": "code",
      "metadata": {
        "colab": {
          "base_uri": "https://localhost:8080/"
        },
        "id": "d0EgrKvKv6SI",
        "outputId": "e80c6d78-8ee0-4c93-b988-83f2ec0cfb4d"
      },
      "source": [
        "food.optimize()"
      ],
      "execution_count": 52,
      "outputs": [
        {
          "output_type": "stream",
          "text": [
            "Gurobi Optimizer version 9.1.1 build v9.1.1rc0 (linux64)\n",
            "Thread count: 1 physical cores, 2 logical processors, using up to 2 threads\n",
            "Optimize a model with 70 rows, 96 columns and 278 nonzeros\n",
            "Model fingerprint: 0xd588eb19\n",
            "Coefficient statistics:\n",
            "  Matrix range     [1e+00, 9e+00]\n",
            "  Objective range  [5e+00, 2e+02]\n",
            "  Bounds range     [0e+00, 0e+00]\n",
            "  RHS range        [2e+02, 5e+02]\n",
            "Presolve removed 33 rows and 45 columns\n",
            "Presolve time: 0.01s\n",
            "Presolved: 37 rows, 51 columns, 149 nonzeros\n",
            "\n",
            "Iteration    Objective       Primal Inf.    Dual Inf.      Time\n",
            "       0    3.7375000e+05   1.703125e+03   0.000000e+00      0s\n",
            "      32    1.0784259e+05   0.000000e+00   0.000000e+00      0s\n",
            "\n",
            "Solved in 32 iterations and 0.02 seconds\n",
            "Optimal objective  1.078425926e+05\n"
          ],
          "name": "stdout"
        }
      ]
    },
    {
      "cell_type": "markdown",
      "metadata": {
        "id": "lxfnEGeg0UXH"
      },
      "source": [
        "##Analisando resultados:\n",
        "---"
      ]
    },
    {
      "cell_type": "markdown",
      "metadata": {
        "id": "Nyas93340iJu"
      },
      "source": [
        "###Quantidade de cada óleo que foi comprada em cada mês"
      ]
    },
    {
      "cell_type": "code",
      "metadata": {
        "colab": {
          "base_uri": "https://localhost:8080/",
          "height": 237
        },
        "id": "vDdCoenm0ZPt",
        "outputId": "e3470733-fcd6-4a64-d8f8-3ad12d1beb2f"
      },
      "source": [
        "rows = months.copy()\n",
        "columns = oils.copy()\n",
        "purchase_plan = pd.DataFrame(columns=columns, index=rows, data=0.0)\n",
        "\n",
        "for month, oil in buy.keys():\n",
        "    if (abs(buy[month, oil].x) > 1e-6):\n",
        "        purchase_plan.loc[month, oil] = np.round(buy[month, oil].x, 1)\n",
        "purchase_plan"
      ],
      "execution_count": 53,
      "outputs": [
        {
          "output_type": "execute_result",
          "data": {
            "text/html": [
              "<div>\n",
              "<style scoped>\n",
              "    .dataframe tbody tr th:only-of-type {\n",
              "        vertical-align: middle;\n",
              "    }\n",
              "\n",
              "    .dataframe tbody tr th {\n",
              "        vertical-align: top;\n",
              "    }\n",
              "\n",
              "    .dataframe thead th {\n",
              "        text-align: right;\n",
              "    }\n",
              "</style>\n",
              "<table border=\"1\" class=\"dataframe\">\n",
              "  <thead>\n",
              "    <tr style=\"text-align: right;\">\n",
              "      <th></th>\n",
              "      <th>VEG1</th>\n",
              "      <th>VEG2</th>\n",
              "      <th>OIL1</th>\n",
              "      <th>OIL2</th>\n",
              "      <th>OIL3</th>\n",
              "    </tr>\n",
              "  </thead>\n",
              "  <tbody>\n",
              "    <tr>\n",
              "      <th>Jan</th>\n",
              "      <td>0.0</td>\n",
              "      <td>0.0</td>\n",
              "      <td>0.0</td>\n",
              "      <td>0.0</td>\n",
              "      <td>0.0</td>\n",
              "    </tr>\n",
              "    <tr>\n",
              "      <th>Feb</th>\n",
              "      <td>0.0</td>\n",
              "      <td>0.0</td>\n",
              "      <td>0.0</td>\n",
              "      <td>250.0</td>\n",
              "      <td>0.0</td>\n",
              "    </tr>\n",
              "    <tr>\n",
              "      <th>Mar</th>\n",
              "      <td>0.0</td>\n",
              "      <td>0.0</td>\n",
              "      <td>0.0</td>\n",
              "      <td>0.0</td>\n",
              "      <td>0.0</td>\n",
              "    </tr>\n",
              "    <tr>\n",
              "      <th>Apr</th>\n",
              "      <td>0.0</td>\n",
              "      <td>0.0</td>\n",
              "      <td>0.0</td>\n",
              "      <td>0.0</td>\n",
              "      <td>0.0</td>\n",
              "    </tr>\n",
              "    <tr>\n",
              "      <th>May</th>\n",
              "      <td>0.0</td>\n",
              "      <td>0.0</td>\n",
              "      <td>0.0</td>\n",
              "      <td>0.0</td>\n",
              "      <td>500.0</td>\n",
              "    </tr>\n",
              "    <tr>\n",
              "      <th>Jun</th>\n",
              "      <td>659.3</td>\n",
              "      <td>540.7</td>\n",
              "      <td>0.0</td>\n",
              "      <td>750.0</td>\n",
              "      <td>0.0</td>\n",
              "    </tr>\n",
              "  </tbody>\n",
              "</table>\n",
              "</div>"
            ],
            "text/plain": [
              "      VEG1   VEG2  OIL1   OIL2   OIL3\n",
              "Jan    0.0    0.0   0.0    0.0    0.0\n",
              "Feb    0.0    0.0   0.0  250.0    0.0\n",
              "Mar    0.0    0.0   0.0    0.0    0.0\n",
              "Apr    0.0    0.0   0.0    0.0    0.0\n",
              "May    0.0    0.0   0.0    0.0  500.0\n",
              "Jun  659.3  540.7   0.0  750.0    0.0"
            ]
          },
          "metadata": {
            "tags": []
          },
          "execution_count": 53
        }
      ]
    },
    {
      "cell_type": "markdown",
      "metadata": {
        "id": "dR_bE10O2Lw6"
      },
      "source": [
        "###Quantidade de óleo que foi consumida em cada mês:"
      ]
    },
    {
      "cell_type": "code",
      "metadata": {
        "colab": {
          "base_uri": "https://localhost:8080/",
          "height": 237
        },
        "id": "frO_VnSz0eY3",
        "outputId": "b434ac82-4b1a-422f-9e00-7631acdc70ed"
      },
      "source": [
        "rows = months.copy()\n",
        "columns = oils.copy()\n",
        "reqs = pd.DataFrame(columns=columns, index=rows, data=0.0)\n",
        "\n",
        "for month, oil in consume.keys():\n",
        "    if (abs(consume[month, oil].x) > 1e-6):\n",
        "        reqs.loc[month, oil] = np.round(consume[month, oil].x, 1)\n",
        "reqs"
      ],
      "execution_count": 54,
      "outputs": [
        {
          "output_type": "execute_result",
          "data": {
            "text/html": [
              "<div>\n",
              "<style scoped>\n",
              "    .dataframe tbody tr th:only-of-type {\n",
              "        vertical-align: middle;\n",
              "    }\n",
              "\n",
              "    .dataframe tbody tr th {\n",
              "        vertical-align: top;\n",
              "    }\n",
              "\n",
              "    .dataframe thead th {\n",
              "        text-align: right;\n",
              "    }\n",
              "</style>\n",
              "<table border=\"1\" class=\"dataframe\">\n",
              "  <thead>\n",
              "    <tr style=\"text-align: right;\">\n",
              "      <th></th>\n",
              "      <th>VEG1</th>\n",
              "      <th>VEG2</th>\n",
              "      <th>OIL1</th>\n",
              "      <th>OIL2</th>\n",
              "      <th>OIL3</th>\n",
              "    </tr>\n",
              "  </thead>\n",
              "  <tbody>\n",
              "    <tr>\n",
              "      <th>Jan</th>\n",
              "      <td>0.0</td>\n",
              "      <td>200.0</td>\n",
              "      <td>0.0</td>\n",
              "      <td>0.0</td>\n",
              "      <td>250.0</td>\n",
              "    </tr>\n",
              "    <tr>\n",
              "      <th>Feb</th>\n",
              "      <td>85.2</td>\n",
              "      <td>114.8</td>\n",
              "      <td>0.0</td>\n",
              "      <td>0.0</td>\n",
              "      <td>250.0</td>\n",
              "    </tr>\n",
              "    <tr>\n",
              "      <th>Mar</th>\n",
              "      <td>96.3</td>\n",
              "      <td>103.7</td>\n",
              "      <td>0.0</td>\n",
              "      <td>250.0</td>\n",
              "      <td>0.0</td>\n",
              "    </tr>\n",
              "    <tr>\n",
              "      <th>Apr</th>\n",
              "      <td>159.3</td>\n",
              "      <td>40.7</td>\n",
              "      <td>0.0</td>\n",
              "      <td>250.0</td>\n",
              "      <td>0.0</td>\n",
              "    </tr>\n",
              "    <tr>\n",
              "      <th>May</th>\n",
              "      <td>159.3</td>\n",
              "      <td>40.7</td>\n",
              "      <td>0.0</td>\n",
              "      <td>250.0</td>\n",
              "      <td>0.0</td>\n",
              "    </tr>\n",
              "    <tr>\n",
              "      <th>Jun</th>\n",
              "      <td>159.3</td>\n",
              "      <td>40.7</td>\n",
              "      <td>0.0</td>\n",
              "      <td>250.0</td>\n",
              "      <td>0.0</td>\n",
              "    </tr>\n",
              "  </tbody>\n",
              "</table>\n",
              "</div>"
            ],
            "text/plain": [
              "      VEG1   VEG2  OIL1   OIL2   OIL3\n",
              "Jan    0.0  200.0   0.0    0.0  250.0\n",
              "Feb   85.2  114.8   0.0    0.0  250.0\n",
              "Mar   96.3  103.7   0.0  250.0    0.0\n",
              "Apr  159.3   40.7   0.0  250.0    0.0\n",
              "May  159.3   40.7   0.0  250.0    0.0\n",
              "Jun  159.3   40.7   0.0  250.0    0.0"
            ]
          },
          "metadata": {
            "tags": []
          },
          "execution_count": 54
        }
      ]
    },
    {
      "cell_type": "markdown",
      "metadata": {
        "id": "l-xQ8e7R2PId"
      },
      "source": [
        "###Quantidade armazenada em cada mês:"
      ]
    },
    {
      "cell_type": "code",
      "metadata": {
        "colab": {
          "base_uri": "https://localhost:8080/",
          "height": 237
        },
        "id": "ky3lp4w82qVW",
        "outputId": "4e132a3e-dada-44fc-b6f1-c84c550710ea"
      },
      "source": [
        "rows = months.copy()\n",
        "columns = oils.copy()\n",
        "store_plan = pd.DataFrame(columns=columns, index=rows, data=0.0)\n",
        "\n",
        "for month, oil in store.keys():\n",
        "    if (abs(store[month, oil].x) > 1e-6):\n",
        "        store_plan.loc[month, oil] = np.round(store[month, oil].x, 1)\n",
        "store_plan"
      ],
      "execution_count": 55,
      "outputs": [
        {
          "output_type": "execute_result",
          "data": {
            "text/html": [
              "<div>\n",
              "<style scoped>\n",
              "    .dataframe tbody tr th:only-of-type {\n",
              "        vertical-align: middle;\n",
              "    }\n",
              "\n",
              "    .dataframe tbody tr th {\n",
              "        vertical-align: top;\n",
              "    }\n",
              "\n",
              "    .dataframe thead th {\n",
              "        text-align: right;\n",
              "    }\n",
              "</style>\n",
              "<table border=\"1\" class=\"dataframe\">\n",
              "  <thead>\n",
              "    <tr style=\"text-align: right;\">\n",
              "      <th></th>\n",
              "      <th>VEG1</th>\n",
              "      <th>VEG2</th>\n",
              "      <th>OIL1</th>\n",
              "      <th>OIL2</th>\n",
              "      <th>OIL3</th>\n",
              "    </tr>\n",
              "  </thead>\n",
              "  <tbody>\n",
              "    <tr>\n",
              "      <th>Jan</th>\n",
              "      <td>500.0</td>\n",
              "      <td>300.0</td>\n",
              "      <td>500.0</td>\n",
              "      <td>500.0</td>\n",
              "      <td>250.0</td>\n",
              "    </tr>\n",
              "    <tr>\n",
              "      <th>Feb</th>\n",
              "      <td>414.8</td>\n",
              "      <td>185.2</td>\n",
              "      <td>500.0</td>\n",
              "      <td>750.0</td>\n",
              "      <td>0.0</td>\n",
              "    </tr>\n",
              "    <tr>\n",
              "      <th>Mar</th>\n",
              "      <td>318.5</td>\n",
              "      <td>81.5</td>\n",
              "      <td>500.0</td>\n",
              "      <td>500.0</td>\n",
              "      <td>0.0</td>\n",
              "    </tr>\n",
              "    <tr>\n",
              "      <th>Apr</th>\n",
              "      <td>159.3</td>\n",
              "      <td>40.7</td>\n",
              "      <td>500.0</td>\n",
              "      <td>250.0</td>\n",
              "      <td>0.0</td>\n",
              "    </tr>\n",
              "    <tr>\n",
              "      <th>May</th>\n",
              "      <td>0.0</td>\n",
              "      <td>0.0</td>\n",
              "      <td>500.0</td>\n",
              "      <td>0.0</td>\n",
              "      <td>500.0</td>\n",
              "    </tr>\n",
              "    <tr>\n",
              "      <th>Jun</th>\n",
              "      <td>500.0</td>\n",
              "      <td>500.0</td>\n",
              "      <td>500.0</td>\n",
              "      <td>500.0</td>\n",
              "      <td>500.0</td>\n",
              "    </tr>\n",
              "  </tbody>\n",
              "</table>\n",
              "</div>"
            ],
            "text/plain": [
              "      VEG1   VEG2   OIL1   OIL2   OIL3\n",
              "Jan  500.0  300.0  500.0  500.0  250.0\n",
              "Feb  414.8  185.2  500.0  750.0    0.0\n",
              "Mar  318.5   81.5  500.0  500.0    0.0\n",
              "Apr  159.3   40.7  500.0  250.0    0.0\n",
              "May    0.0    0.0  500.0    0.0  500.0\n",
              "Jun  500.0  500.0  500.0  500.0  500.0"
            ]
          },
          "metadata": {
            "tags": []
          },
          "execution_count": 55
        }
      ]
    },
    {
      "cell_type": "markdown",
      "metadata": {
        "id": "79BWriud6_gG"
      },
      "source": [
        "Sabemos pelas restrições que a quantidade inicial armazenada em cada mês somada com a quantidade comprada - a quantidade comsunima é igual a quantidade armazenada no mês, facilmente podemos ver que os resultados respeitam essa restrição"
      ]
    },
    {
      "cell_type": "markdown",
      "metadata": {
        "id": "m97BdxCWyMjg"
      },
      "source": [
        "#**Problema modelo com parâmetros modificados:**\n",
        "---\n"
      ]
    },
    {
      "cell_type": "markdown",
      "metadata": {
        "id": "hHP7agl8EBij"
      },
      "source": [
        "##Analisando parâmetros do problema modelo"
      ]
    },
    {
      "cell_type": "markdown",
      "metadata": {
        "id": "yhXU5J939i3U"
      },
      "source": [
        "Vamos definir alguns parâmetros para serem modificados em cima dos parâmetros do problema modelo."
      ]
    },
    {
      "cell_type": "markdown",
      "metadata": {
        "id": "w_GX3aq3Ay59"
      },
      "source": [
        "**Preço de venda do produto \"price\":**"
      ]
    },
    {
      "cell_type": "markdown",
      "metadata": {
        "id": "Xcpe-aEM8KIs"
      },
      "source": [
        "O parâmetro \"price\" só aparece na função objetivo:\n",
        "\n",
        "\\begin{equation}\n",
        "\\text{Maximize} \\quad Z = \\sum_{t \\in \\text{Months}}\\color{red}{price}*\\text{produce}_t - \\sum_{t \\in \\text{Months}}\\sum_{o \\in \\text{Oils}}(\\text{cost}_{t,o}*\\text{consume}_{t,o} + \\text{holding_cost}*\\text{store}_{t,o})\n",
        "\\tag{0}\n",
        "\\end{equation}\n",
        "\n",
        "Diminuir o valor de \"price\" teria um impacto direto na função objetivo e no valor de \"produce\", pois mais comida deverá ser produzida para gerar o mesmo lucro e isso impacta diretamente os resultados.\n",
        "\n"
      ]
    },
    {
      "cell_type": "markdown",
      "metadata": {
        "id": "lguRCfge9zpI"
      },
      "source": [
        "**Capacidades de refinamento de cada óleo, \"veg_cap\" e \"oil_cap\":**\n",
        "\n",
        "\n"
      ]
    },
    {
      "cell_type": "markdown",
      "metadata": {
        "id": "j863BGE19grR"
      },
      "source": [
        "\\begin{equation}\n",
        "\\sum_{o \\in V}\\text{consume}_{t,o} \\leq \\color{red}{veg\\_cap} \\quad \\forall t \\in \\text{Meses}\n",
        "\\tag{4.1}\n",
        "\\end{equation}\n",
        "\n",
        "\\begin{equation}\n",
        "\\sum_{o \\in N}\\text{consume}_{t,o} \\leq \\color{red}{oil\\_cap} \\quad \\forall t \\in \\text{Meses}\n",
        "\\tag{4.2}\n",
        "\\end{equation}"
      ]
    },
    {
      "cell_type": "markdown",
      "metadata": {
        "id": "BaXGAHPw90ng"
      },
      "source": [
        "Ao reduzir as capacidades de refinamento temos que as capacidades de consumo (que é de óleo refinado, que não pode ser armazenado) serão afetadas e deverão ser reduzidas também, consequentemente o valor das quantidades compradas também será resuzida, ou, se não for reduzida terá de ser armazenada para refinamento posterior em maior quantidade uma vez que a capacidade de refinamento diminuiu."
      ]
    },
    {
      "cell_type": "markdown",
      "metadata": {
        "id": "iAB12TCmAHLk"
      },
      "source": [
        "**Quantidade inicial armazenada \"init_store\":**\n"
      ]
    },
    {
      "cell_type": "markdown",
      "metadata": {
        "id": "FDYy4NNKA78r"
      },
      "source": [
        "Aparece somente em uma restrição:"
      ]
    },
    {
      "cell_type": "markdown",
      "metadata": {
        "id": "J4734W83A-jt"
      },
      "source": [
        "\\begin{equation}\n",
        "\\color{red}{init\\_store} + \\text{buy}_{Jan,o} = \\text{consume}_{Jan,o} + \\text{store}_{Jan,o} \\quad \\forall o \\in \\text{Oils}\n",
        "\\tag{1}\n",
        "\\end{equation}"
      ]
    },
    {
      "cell_type": "markdown",
      "metadata": {
        "id": "tym1vHk_BGt-"
      },
      "source": [
        "O \"init_store\" vai ter um impacto maior no primeiro mês, \"Janeiro\".\n",
        "\n",
        "Alterar o valor de \"init_store\" vai fazer com que os valores de \"buy\", \"consume\" e \"store\" sejam alterados para balancear a igualdade.\n",
        "\n",
        "Aumentando o \"init_store\" o lado esquerdo da equação vai ser aumentado fazendo com que o valor de \"buy\", ou seja, a quantidade comprada diminua e os valores consumidos \"consume\" e armazenados \"store\" aumentem par ao mês de Janeiro.\n"
      ]
    },
    {
      "cell_type": "markdown",
      "metadata": {
        "id": "pgB0cRX-B-Pa"
      },
      "source": [
        "**Quantidades mínimas e máximas de \"dureza\", \"min_hardness\" e \"max_hardness\":**"
      ]
    },
    {
      "cell_type": "markdown",
      "metadata": {
        "id": "4qHouc_ZCCr7"
      },
      "source": [
        "O valor de dureza mínima e máxima, \"min_hardness\" e \"max_hardness\", respectivamente, aparecem somente na restrição:"
      ]
    },
    {
      "cell_type": "markdown",
      "metadata": {
        "id": "0Y5J2MTMCWZA"
      },
      "source": [
        "\\begin{equation}\n",
        "\\color{red}{min\\_hardness}*\\text{produce}_t \\leq \\sum_{o \\in \\text{Oils}} \\text{hardness}_o*\\text{consume}_{t,o} \\leq \\color{red}{max\\_hardness}*\\text{produce}_t \\quad \\forall t \\in \\text{Meses}\n",
        "\\tag{5}\n",
        "\\end{equation}"
      ]
    },
    {
      "cell_type": "markdown",
      "metadata": {
        "id": "RlXCNbeRCgfl"
      },
      "source": [
        "Alterar esses valores pode criar uma inviabilidade no problema, por exemplo colocando um valor mínimo e máximo menor do que o menor valor existente na tabela de dureza do óleos, dessa forma não vai existir combinação (dado que os valores são positivos) que gere um produto com uma dureza numa faixa de dureza tão baixa. Se a faixa de dureza for extendida pode gerar inviabilidade tamém dado as demais restrições "
      ]
    },
    {
      "cell_type": "markdown",
      "metadata": {
        "id": "0v85tkdjDR_T"
      },
      "source": [
        "**Dureza dos óleos, \"hardness\":**"
      ]
    },
    {
      "cell_type": "markdown",
      "metadata": {
        "id": "Xm73Cse9Drvb"
      },
      "source": [
        "Aparece na restrição anterior:"
      ]
    },
    {
      "cell_type": "markdown",
      "metadata": {
        "id": "DP6eCEqIDiIw"
      },
      "source": [
        "\\begin{equation}\n",
        "\\text{min_hardness}*\\text{produce}_t \\leq \\sum_{o \\in \\text{Oils}} \\color{red}{hardness}_o*\\text{consume}_{t,o} \\leq \\text{max_hardness}*\\text{produce}_t \\quad \\forall t \\in \\text{Meses}\n",
        "\\tag{5}\n",
        "\\end{equation}"
      ]
    },
    {
      "cell_type": "markdown",
      "metadata": {
        "id": "DJAmfDRBDvp8"
      },
      "source": [
        "Altera-la também pode gerar iviabilidade dependendo dos valores de dureza máxima e mínima"
      ]
    },
    {
      "cell_type": "markdown",
      "metadata": {
        "id": "XSSoE4vqEWKP"
      },
      "source": [
        "**Custo de armazenamento:**"
      ]
    },
    {
      "cell_type": "markdown",
      "metadata": {
        "id": "m0RdlXW2EjMs"
      },
      "source": [
        "Aparece também na função objetivo:"
      ]
    },
    {
      "cell_type": "markdown",
      "metadata": {
        "id": "5BqiywdPEmmE"
      },
      "source": [
        "\\begin{equation}\n",
        "\\text{Maximize} \\quad Z = \\sum_{t \\in \\text{Months}}\\text{price}*\\text{produce}_t - \\sum_{t \\in \\text{Months}}\\sum_{o \\in \\text{Oils}}(\\text{cost}_{t,o}*\\text{consume}_{t,o} + \\color{red}{holding\\_cost}*\\text{store}_{t,o})\n",
        "\\tag{0}\n",
        "\\end{equation}"
      ]
    },
    {
      "cell_type": "markdown",
      "metadata": {
        "id": "zhbV5ofSEuL7"
      },
      "source": [
        "Como ele aparece de forma negativa na função objetivo que é de maximização e aparece multiplicado por \"store\", aumentar o custo de armazenamento tenderia a diminuir a quantidade armazenada, \"store\"."
      ]
    },
    {
      "cell_type": "markdown",
      "metadata": {
        "id": "o_BO2kKSE-Zb"
      },
      "source": [
        "**Quantidade alvo no fim do período, \"target_store\":**"
      ]
    },
    {
      "cell_type": "markdown",
      "metadata": {
        "id": "Me7FejdvFV_K"
      },
      "source": [
        "Aparece na restrição do último mês:"
      ]
    },
    {
      "cell_type": "markdown",
      "metadata": {
        "id": "rXQi1tW3Fdu-"
      },
      "source": [
        "\\begin{equation}\n",
        "\\text{store}_{Jun,o} = \\color{red}{target\\_store} \\quad \\forall o \\in \\text{Oils}\n",
        "\\tag{3}\n",
        "\\end{equation}"
      ]
    },
    {
      "cell_type": "markdown",
      "metadata": {
        "id": "_plt0o-AFkFZ"
      },
      "source": [
        "Impacta mais os valores do último mês e faz com que a quantidade armazenada seja sempre o valor dado no último mês."
      ]
    },
    {
      "cell_type": "markdown",
      "metadata": {
        "id": "sqEj0B0YGFaZ"
      },
      "source": [
        "**Custo de compra de óleo no mês, \"cost\":**"
      ]
    },
    {
      "cell_type": "markdown",
      "metadata": {
        "id": "H37HvmA_GueT"
      },
      "source": [
        "O custo de comprar o óleo, \"cost\" aparece na função objetivo:"
      ]
    },
    {
      "cell_type": "markdown",
      "metadata": {
        "id": "1K0EM_t3G2Co"
      },
      "source": [
        "\\begin{equation}\n",
        "\\text{Maximize} \\quad Z = \\sum_{t \\in \\text{Months}}\\text{price}*\\text{produce}_t - \\sum_{t \\in \\text{Months}}\\sum_{o \\in \\text{Oils}}(\\color{red}{cost}_{t,o}*\\text{consume}_{t,o} + \\text{holding_cost}*\\text{store}_{t,o})\n",
        "\\tag{0}\n",
        "\\end{equation}"
      ]
    },
    {
      "cell_type": "markdown",
      "metadata": {
        "id": "itdXKLt1HFza"
      },
      "source": [
        "Aparece de forma negativa na função objetivo de maximização multiplicado por \"consume\". Ao aumentar o custo tende-se que a solução ótima ai ter quantidades consumidas menores"
      ]
    },
    {
      "cell_type": "markdown",
      "metadata": {
        "id": "MSPa9M7gHYMp"
      },
      "source": [
        "##Alteração dos parâmetros do problema"
      ]
    },
    {
      "cell_type": "markdown",
      "metadata": {
        "id": "65w1uGWlHboP"
      },
      "source": [
        "Vamos alterar os parâmetros com base no que foi analisado anteriormente."
      ]
    },
    {
      "cell_type": "markdown",
      "metadata": {
        "id": "CLYPHQVtHf16"
      },
      "source": [
        "Vamos diminuir o preço de venda para que a quantidade produzida tenha de aumentar para compensar os ganhos.\n",
        "\n",
        "\"price\": de 150 para 50"
      ]
    },
    {
      "cell_type": "code",
      "metadata": {
        "id": "vaTYnzHdKUW6"
      },
      "source": [
        "price = 50"
      ],
      "execution_count": 135,
      "outputs": []
    },
    {
      "cell_type": "markdown",
      "metadata": {
        "id": "YFy8U7P9ILAT"
      },
      "source": [
        "Para que mais quantidade possa ser produzida vamos aumentar as capacidades de refinamento:\n",
        "\n",
        "\"veg_cap\": de 200 -> 400\n",
        "\"oil_cap\": de 250 -> 500"
      ]
    },
    {
      "cell_type": "code",
      "metadata": {
        "id": "dZOHAGp-KjFw"
      },
      "source": [
        "veg_cap = 400\n",
        "oil_cap = 500"
      ],
      "execution_count": 136,
      "outputs": []
    },
    {
      "cell_type": "markdown",
      "metadata": {
        "id": "Ii3ca24vIfQT"
      },
      "source": [
        "Vamos aumentar a quantidade inicial armazenada:\n",
        "\n",
        "\"init_store\": 500 para 800"
      ]
    },
    {
      "cell_type": "code",
      "metadata": {
        "id": "7TIr50--Ko1F"
      },
      "source": [
        "init_store = 800"
      ],
      "execution_count": 137,
      "outputs": []
    },
    {
      "cell_type": "markdown",
      "metadata": {
        "id": "NaZIjkAHI6Pk"
      },
      "source": [
        "Vamos aumentar \"min_hardness\" e manter \"max_hardness\" para tentar favorecer a compra de óleos com dureza maior.\n",
        "\n",
        "\"min_hardness\": 3 para 5.5\n",
        "\"max_hardness\": manter valor de 6.0"
      ]
    },
    {
      "cell_type": "code",
      "metadata": {
        "id": "hai9Ni8mKqxG"
      },
      "source": [
        "min_hardness = 5.5\n",
        "max_hardness = 6"
      ],
      "execution_count": 138,
      "outputs": []
    },
    {
      "cell_type": "markdown",
      "metadata": {
        "id": "mMEkaLFCJpzv"
      },
      "source": [
        "Vamos alterar os valores de \"hardness\":\n",
        "\n",
        "De:\n",
        "\n",
        "|Oils |\tHardness|\n",
        "| ------------- |-------------| \n",
        "|VEG 1 |\t8.8|\n",
        "|VEG 2 |\t6.1|\n",
        "|OIL 1 |\t2.0|\n",
        "|OIL2 |\t4.2|\n",
        "|OIL 3| \t5.0|\n",
        "\n",
        "Para:\n",
        "\n",
        "|Oils |\tHardness|\n",
        "| ------------- |-------------| \n",
        "|VEG 1 |\t2.0|\n",
        "|VEG 2 |\t4.2|\n",
        "|OIL 1 |\t8.8|\n",
        "|OIL2 |\t6.1|\n",
        "|OIL 3| \t5.0|\n",
        "\n",
        "Dessa forma os óleos OIL 1 e OIL 2 vão ser favorecidos pelas restrições de \"hardness\" alterada anteriormente"
      ]
    },
    {
      "cell_type": "code",
      "metadata": {
        "id": "PqTeO58GKutF"
      },
      "source": [
        "hardness = {\"VEG1\": 2.0, \"VEG2\": 4.2, \"OIL1\": 8.8, \"OIL2\": 6.1, \"OIL3\": 5.0}"
      ],
      "execution_count": 139,
      "outputs": []
    },
    {
      "cell_type": "markdown",
      "metadata": {
        "id": "Mk4NN8hyKKiL"
      },
      "source": [
        "Vamos alterar o custo de armazenamento, reduzindo o mesmo para favorecer armazenarmos mais quantidade de óleos:\n",
        "\n",
        "\"holding_cost\": de 5 para 1"
      ]
    },
    {
      "cell_type": "code",
      "metadata": {
        "id": "ldZpu_beLOo5"
      },
      "source": [
        "holding_cost = 1"
      ],
      "execution_count": 140,
      "outputs": []
    },
    {
      "cell_type": "markdown",
      "metadata": {
        "id": "dLAPPvsDLcP0"
      },
      "source": [
        "A quantidade armazenada no último mês deve ser igual a quantidade armazenada inicialmente, por definição do problema modelo.\n",
        "\n",
        "\"target_store\": de 500 para 800"
      ]
    },
    {
      "cell_type": "code",
      "metadata": {
        "id": "FFR6i_l5Lr6a"
      },
      "source": [
        "target_store = 800"
      ],
      "execution_count": 141,
      "outputs": []
    },
    {
      "cell_type": "markdown",
      "metadata": {
        "id": "GtT7Y318L28K"
      },
      "source": [
        "Vamos alterar os custos de compra de forma a diminuir os custos no geral para favorecer mais compras e penalizar um produto em específico, vamos penalizar o óleo.\n",
        "\n",
        "Vamos penalizar \"OIL1\", uma vez que beneficiamos ele aumentando o valor mínimo de dureza favorecento sua escolha, porém vamos agora penaliza-lo severamente em seu custo, esperamos ver ele aparecer menos na solução ótima."
      ]
    },
    {
      "cell_type": "code",
      "metadata": {
        "id": "ujtRM7_0MWWu"
      },
      "source": [
        "cost = {\n",
        "    ('Jan', 'VEG1'): 30,\n",
        "    ('Jan', 'VEG2'): 50,\n",
        "    ('Jan', 'OIL1'): 150,\n",
        "    ('Jan', 'OIL2'): 60,\n",
        "    ('Jan', 'OIL3'): 40,\n",
        "    ('Feb', 'VEG1'): 55,\n",
        "    ('Feb', 'VEG2'): 45,\n",
        "    ('Feb', 'OIL1'): 180,\n",
        "    ('Feb', 'OIL2'): 90,\n",
        "    ('Feb', 'OIL3'): 70,\n",
        "    ('Mar', 'VEG1'): 40,\n",
        "    ('Mar', 'VEG2'): 30,\n",
        "    ('Mar', 'OIL1'): 190,\n",
        "    ('Mar', 'OIL2'): 40,\n",
        "    ('Mar', 'OIL3'): 60,\n",
        "    ('Apr', 'VEG1'): 75,\n",
        "    ('Apr', 'VEG2'): 65,\n",
        "    ('Apr', 'OIL1'): 165,\n",
        "    ('Apr', 'OIL2'): 55,\n",
        "    ('Apr', 'OIL3'): 45,\n",
        "    ('May', 'VEG1'): 65,\n",
        "    ('May', 'VEG2'): 55,\n",
        "    ('May', 'OIL1'): 155,\n",
        "    ('May', 'OIL2'): 75,\n",
        "    ('May', 'OIL3'): 60,\n",
        "    ('Jun', 'VEG1'): 75,\n",
        "    ('Jun', 'VEG2'): 65,\n",
        "    ('Jun', 'OIL1'): 145,\n",
        "    ('Jun', 'OIL2'): 50,\n",
        "    ('Jun', 'OIL3'): 65\n",
        "}"
      ],
      "execution_count": 142,
      "outputs": []
    },
    {
      "cell_type": "markdown",
      "metadata": {
        "id": "U0f2J2NaNK79"
      },
      "source": [
        "Conjunto de meses e óleos são os mesmos.\n",
        "\n"
      ]
    },
    {
      "cell_type": "code",
      "metadata": {
        "id": "MY_YVvnyNaP8"
      },
      "source": [
        "months = [\"Jan\", \"Feb\", \"Mar\", \"Apr\", \"May\", \"Jun\"]\n",
        "\n",
        "oils = [\"VEG1\", \"VEG2\", \"OIL1\", \"OIL2\", \"OIL3\"]"
      ],
      "execution_count": 143,
      "outputs": []
    },
    {
      "cell_type": "markdown",
      "metadata": {
        "id": "dNrgqJcdNlKx"
      },
      "source": [
        "##Implementação do modelo e execução"
      ]
    },
    {
      "cell_type": "markdown",
      "metadata": {
        "id": "k_JZexEON16K"
      },
      "source": [
        "###Implementação e variáveis de decisão"
      ]
    },
    {
      "cell_type": "code",
      "metadata": {
        "id": "QGO0iH2ONuqo"
      },
      "source": [
        "food = gp.Model('Food Manufacture I')\n",
        "# Quantity of food produced in each period\n",
        "produce = food.addVars(months, name=\"Produce\")\n",
        "# Quantity bought of each product in each period\n",
        "buy = food.addVars(months, oils, name = \"Buy\")\n",
        "# Quantity used of each product  in each period\n",
        "consume = food.addVars(months, oils, name = \"Use\")\n",
        "# Quantity stored of each product  in each period\n",
        "store = food.addVars(months, oils, name = \"Store\")"
      ],
      "execution_count": 144,
      "outputs": []
    },
    {
      "cell_type": "markdown",
      "metadata": {
        "id": "7z3ixH7MN5yo"
      },
      "source": [
        "###Restrições"
      ]
    },
    {
      "cell_type": "code",
      "metadata": {
        "id": "7WX1lRL1N0a2"
      },
      "source": [
        "#1. Initial Balance\n",
        "Balance0 = food.addConstrs((init_store + buy[months[0], oil]\n",
        "                 == consume[months[0], oil] + store[months[0], oil]\n",
        "                 for oil in oils), \"Initial_Balance\")\n",
        "\n",
        "#2. Balance\n",
        "Balance = food.addConstrs((store[months[months.index(month)-1], oil] + buy[month, oil]\n",
        "                 == consume[month, oil] + store[month, oil]\n",
        "                 for oil in oils for month in months if month != month[0]), \"Balance\")\n",
        "\n",
        "#3. Inventory Target\n",
        "TargetInv = food.addConstrs((store[months[-1], oil] == target_store for oil in oils),\"End_Balance\")\n",
        "\n",
        "#4.1 Vegetable Oil Capacity\n",
        "VegCapacity = food.addConstrs((gp.quicksum(consume[month, oil] for oil in oils if \"VEG\" in oil)\n",
        "                 <= veg_cap for month in months), \"Capacity_Veg\")\n",
        "\n",
        "#4.2 Non-vegetable Oil Capacity\n",
        "NonVegCapacity = food.addConstrs((gp.quicksum(consume[month, oil] for oil in oils if \"OIL\" in oil)\n",
        "                 <= oil_cap for month in months), \"Capacity_Oil\")\n",
        "\n",
        "#5. Hardness\n",
        "HardnessMin = food.addConstrs((gp.quicksum(hardness[oil]*consume[month, oil] for oil in oils)\n",
        "                 >= min_hardness*produce[month] for month in months), \"Hardness_lower\")\n",
        "HardnessMax = food.addConstrs((gp.quicksum(hardness[oil]*consume[month, oil] for oil in oils)\n",
        "                 <= max_hardness*produce[month] for month in months), \"Hardness_upper\")\n",
        "\n",
        "#6. Mass Conservation\n",
        "MassConservation = food.addConstrs((consume.sum(month) == produce[month] for month in months), \"Mass_conservation\")"
      ],
      "execution_count": 145,
      "outputs": []
    },
    {
      "cell_type": "markdown",
      "metadata": {
        "id": "JMtaw88oN-oR"
      },
      "source": [
        "###Função objetivo"
      ]
    },
    {
      "cell_type": "code",
      "metadata": {
        "id": "lH3jcBH4OANW"
      },
      "source": [
        "#0. Objective Function\n",
        "obj = price*produce.sum() - buy.prod(cost) - holding_cost*store.sum()\n",
        "food.setObjective(obj, GRB.MAXIMIZE) # maximize profit"
      ],
      "execution_count": 146,
      "outputs": []
    },
    {
      "cell_type": "markdown",
      "metadata": {
        "id": "w6QGwUVYOZir"
      },
      "source": [
        "###Otimizando o modelo com o Gurobi"
      ]
    },
    {
      "cell_type": "code",
      "metadata": {
        "colab": {
          "base_uri": "https://localhost:8080/"
        },
        "id": "VcJil2hFObRW",
        "outputId": "9909b9ae-23c1-4484-fa9d-c28e8c8f5b0d"
      },
      "source": [
        "food.optimize()"
      ],
      "execution_count": 147,
      "outputs": [
        {
          "output_type": "stream",
          "text": [
            "Gurobi Optimizer version 9.1.1 build v9.1.1rc0 (linux64)\n",
            "Thread count: 1 physical cores, 2 logical processors, using up to 2 threads\n",
            "Optimize a model with 70 rows, 96 columns and 278 nonzeros\n",
            "Model fingerprint: 0x99a08763\n",
            "Coefficient statistics:\n",
            "  Matrix range     [1e+00, 9e+00]\n",
            "  Objective range  [1e+00, 2e+02]\n",
            "  Bounds range     [0e+00, 0e+00]\n",
            "  RHS range        [4e+02, 8e+02]\n",
            "Presolve removed 33 rows and 50 columns\n",
            "Presolve time: 0.01s\n",
            "Presolved: 37 rows, 46 columns, 144 nonzeros\n",
            "\n",
            "Iteration    Objective       Primal Inf.    Dual Inf.      Time\n",
            "       0    2.5010160e+05   1.856250e+03   0.000000e+00      0s\n",
            "      42    2.7546154e+04   0.000000e+00   0.000000e+00      0s\n",
            "\n",
            "Solved in 42 iterations and 0.02 seconds\n",
            "Optimal objective  2.754615385e+04\n"
          ],
          "name": "stdout"
        }
      ]
    },
    {
      "cell_type": "markdown",
      "metadata": {
        "id": "q0w4TV5LO7o0"
      },
      "source": [
        "###Quantidade comprada de cada óleo em cada mês"
      ]
    },
    {
      "cell_type": "code",
      "metadata": {
        "colab": {
          "base_uri": "https://localhost:8080/",
          "height": 237
        },
        "id": "HSf3bS2RO8wT",
        "outputId": "599ec065-24b9-4520-fe6e-448b16d69675"
      },
      "source": [
        "rows = months.copy()\n",
        "columns = oils.copy()\n",
        "purchase_plan = pd.DataFrame(columns=columns, index=rows, data=0.0)\n",
        "\n",
        "for month, oil in buy.keys():\n",
        "    if (abs(buy[month, oil].x) > 1e-6):\n",
        "        purchase_plan.loc[month, oil] = np.round(buy[month, oil].x, 1)\n",
        "purchase_plan"
      ],
      "execution_count": 148,
      "outputs": [
        {
          "output_type": "execute_result",
          "data": {
            "text/html": [
              "<div>\n",
              "<style scoped>\n",
              "    .dataframe tbody tr th:only-of-type {\n",
              "        vertical-align: middle;\n",
              "    }\n",
              "\n",
              "    .dataframe tbody tr th {\n",
              "        vertical-align: top;\n",
              "    }\n",
              "\n",
              "    .dataframe thead th {\n",
              "        text-align: right;\n",
              "    }\n",
              "</style>\n",
              "<table border=\"1\" class=\"dataframe\">\n",
              "  <thead>\n",
              "    <tr style=\"text-align: right;\">\n",
              "      <th></th>\n",
              "      <th>VEG1</th>\n",
              "      <th>VEG2</th>\n",
              "      <th>OIL1</th>\n",
              "      <th>OIL2</th>\n",
              "      <th>OIL3</th>\n",
              "    </tr>\n",
              "  </thead>\n",
              "  <tbody>\n",
              "    <tr>\n",
              "      <th>Jan</th>\n",
              "      <td>0.0</td>\n",
              "      <td>0.0</td>\n",
              "      <td>0.0</td>\n",
              "      <td>0.0</td>\n",
              "      <td>200.0</td>\n",
              "    </tr>\n",
              "    <tr>\n",
              "      <th>Feb</th>\n",
              "      <td>0.0</td>\n",
              "      <td>0.0</td>\n",
              "      <td>0.0</td>\n",
              "      <td>0.0</td>\n",
              "      <td>0.0</td>\n",
              "    </tr>\n",
              "    <tr>\n",
              "      <th>Mar</th>\n",
              "      <td>0.0</td>\n",
              "      <td>1215.4</td>\n",
              "      <td>0.0</td>\n",
              "      <td>2800.0</td>\n",
              "      <td>0.0</td>\n",
              "    </tr>\n",
              "    <tr>\n",
              "      <th>Apr</th>\n",
              "      <td>0.0</td>\n",
              "      <td>0.0</td>\n",
              "      <td>0.0</td>\n",
              "      <td>0.0</td>\n",
              "      <td>0.0</td>\n",
              "    </tr>\n",
              "    <tr>\n",
              "      <th>May</th>\n",
              "      <td>0.0</td>\n",
              "      <td>0.0</td>\n",
              "      <td>0.0</td>\n",
              "      <td>0.0</td>\n",
              "      <td>0.0</td>\n",
              "    </tr>\n",
              "    <tr>\n",
              "      <th>Jun</th>\n",
              "      <td>0.0</td>\n",
              "      <td>0.0</td>\n",
              "      <td>0.0</td>\n",
              "      <td>0.0</td>\n",
              "      <td>0.0</td>\n",
              "    </tr>\n",
              "  </tbody>\n",
              "</table>\n",
              "</div>"
            ],
            "text/plain": [
              "     VEG1    VEG2  OIL1    OIL2   OIL3\n",
              "Jan   0.0     0.0   0.0     0.0  200.0\n",
              "Feb   0.0     0.0   0.0     0.0    0.0\n",
              "Mar   0.0  1215.4   0.0  2800.0    0.0\n",
              "Apr   0.0     0.0   0.0     0.0    0.0\n",
              "May   0.0     0.0   0.0     0.0    0.0\n",
              "Jun   0.0     0.0   0.0     0.0    0.0"
            ]
          },
          "metadata": {
            "tags": []
          },
          "execution_count": 148
        }
      ]
    },
    {
      "cell_type": "markdown",
      "metadata": {
        "id": "YXAv4-owPG98"
      },
      "source": [
        "###Quantidade de cada óleo consumida em cada mês"
      ]
    },
    {
      "cell_type": "code",
      "metadata": {
        "colab": {
          "base_uri": "https://localhost:8080/",
          "height": 237
        },
        "id": "v0-C45xlPJQG",
        "outputId": "1e25a5cf-fd32-48d4-b9fe-4f41dc0dd34d"
      },
      "source": [
        "rows = months.copy()\n",
        "columns = oils.copy()\n",
        "reqs = pd.DataFrame(columns=columns, index=rows, data=0.0)\n",
        "\n",
        "for month, oil in consume.keys():\n",
        "    if (abs(consume[month, oil].x) > 1e-6):\n",
        "        reqs.loc[month, oil] = np.round(consume[month, oil].x, 1)\n",
        "reqs"
      ],
      "execution_count": 149,
      "outputs": [
        {
          "output_type": "execute_result",
          "data": {
            "text/html": [
              "<div>\n",
              "<style scoped>\n",
              "    .dataframe tbody tr th:only-of-type {\n",
              "        vertical-align: middle;\n",
              "    }\n",
              "\n",
              "    .dataframe tbody tr th {\n",
              "        vertical-align: top;\n",
              "    }\n",
              "\n",
              "    .dataframe thead th {\n",
              "        text-align: right;\n",
              "    }\n",
              "</style>\n",
              "<table border=\"1\" class=\"dataframe\">\n",
              "  <thead>\n",
              "    <tr style=\"text-align: right;\">\n",
              "      <th></th>\n",
              "      <th>VEG1</th>\n",
              "      <th>VEG2</th>\n",
              "      <th>OIL1</th>\n",
              "      <th>OIL2</th>\n",
              "      <th>OIL3</th>\n",
              "    </tr>\n",
              "  </thead>\n",
              "  <tbody>\n",
              "    <tr>\n",
              "      <th>Jan</th>\n",
              "      <td>0.0</td>\n",
              "      <td>230.8</td>\n",
              "      <td>0.0</td>\n",
              "      <td>500.0</td>\n",
              "      <td>0.0</td>\n",
              "    </tr>\n",
              "    <tr>\n",
              "      <th>Feb</th>\n",
              "      <td>0.0</td>\n",
              "      <td>61.5</td>\n",
              "      <td>0.0</td>\n",
              "      <td>300.0</td>\n",
              "      <td>200.0</td>\n",
              "    </tr>\n",
              "    <tr>\n",
              "      <th>Mar</th>\n",
              "      <td>0.0</td>\n",
              "      <td>230.8</td>\n",
              "      <td>0.0</td>\n",
              "      <td>500.0</td>\n",
              "      <td>0.0</td>\n",
              "    </tr>\n",
              "    <tr>\n",
              "      <th>Apr</th>\n",
              "      <td>0.0</td>\n",
              "      <td>230.8</td>\n",
              "      <td>0.0</td>\n",
              "      <td>500.0</td>\n",
              "      <td>0.0</td>\n",
              "    </tr>\n",
              "    <tr>\n",
              "      <th>May</th>\n",
              "      <td>0.0</td>\n",
              "      <td>230.8</td>\n",
              "      <td>0.0</td>\n",
              "      <td>500.0</td>\n",
              "      <td>0.0</td>\n",
              "    </tr>\n",
              "    <tr>\n",
              "      <th>Jun</th>\n",
              "      <td>0.0</td>\n",
              "      <td>230.8</td>\n",
              "      <td>0.0</td>\n",
              "      <td>500.0</td>\n",
              "      <td>0.0</td>\n",
              "    </tr>\n",
              "  </tbody>\n",
              "</table>\n",
              "</div>"
            ],
            "text/plain": [
              "     VEG1   VEG2  OIL1   OIL2   OIL3\n",
              "Jan   0.0  230.8   0.0  500.0    0.0\n",
              "Feb   0.0   61.5   0.0  300.0  200.0\n",
              "Mar   0.0  230.8   0.0  500.0    0.0\n",
              "Apr   0.0  230.8   0.0  500.0    0.0\n",
              "May   0.0  230.8   0.0  500.0    0.0\n",
              "Jun   0.0  230.8   0.0  500.0    0.0"
            ]
          },
          "metadata": {
            "tags": []
          },
          "execution_count": 149
        }
      ]
    },
    {
      "cell_type": "markdown",
      "metadata": {
        "id": "lr28yZzeR8hT"
      },
      "source": [
        "###Quantidade de cada óleo armazenada em cada mês"
      ]
    },
    {
      "cell_type": "code",
      "metadata": {
        "colab": {
          "base_uri": "https://localhost:8080/",
          "height": 237
        },
        "id": "-nrxXbgxSFNw",
        "outputId": "a043db5c-70b0-4fb1-f637-77c7730d1d0d"
      },
      "source": [
        "rows = months.copy()\n",
        "columns = oils.copy()\n",
        "store_plan = pd.DataFrame(columns=columns, index=rows, data=0.0)\n",
        "\n",
        "for month, oil in store.keys():\n",
        "    if (abs(store[month, oil].x) > 1e-6):\n",
        "        store_plan.loc[month, oil] = np.round(store[month, oil].x, 1)\n",
        "store_plan"
      ],
      "execution_count": 150,
      "outputs": [
        {
          "output_type": "execute_result",
          "data": {
            "text/html": [
              "<div>\n",
              "<style scoped>\n",
              "    .dataframe tbody tr th:only-of-type {\n",
              "        vertical-align: middle;\n",
              "    }\n",
              "\n",
              "    .dataframe tbody tr th {\n",
              "        vertical-align: top;\n",
              "    }\n",
              "\n",
              "    .dataframe thead th {\n",
              "        text-align: right;\n",
              "    }\n",
              "</style>\n",
              "<table border=\"1\" class=\"dataframe\">\n",
              "  <thead>\n",
              "    <tr style=\"text-align: right;\">\n",
              "      <th></th>\n",
              "      <th>VEG1</th>\n",
              "      <th>VEG2</th>\n",
              "      <th>OIL1</th>\n",
              "      <th>OIL2</th>\n",
              "      <th>OIL3</th>\n",
              "    </tr>\n",
              "  </thead>\n",
              "  <tbody>\n",
              "    <tr>\n",
              "      <th>Jan</th>\n",
              "      <td>800.0</td>\n",
              "      <td>569.2</td>\n",
              "      <td>800.0</td>\n",
              "      <td>300.0</td>\n",
              "      <td>1000.0</td>\n",
              "    </tr>\n",
              "    <tr>\n",
              "      <th>Feb</th>\n",
              "      <td>800.0</td>\n",
              "      <td>507.7</td>\n",
              "      <td>800.0</td>\n",
              "      <td>0.0</td>\n",
              "      <td>800.0</td>\n",
              "    </tr>\n",
              "    <tr>\n",
              "      <th>Mar</th>\n",
              "      <td>800.0</td>\n",
              "      <td>1492.3</td>\n",
              "      <td>800.0</td>\n",
              "      <td>2300.0</td>\n",
              "      <td>800.0</td>\n",
              "    </tr>\n",
              "    <tr>\n",
              "      <th>Apr</th>\n",
              "      <td>800.0</td>\n",
              "      <td>1261.5</td>\n",
              "      <td>800.0</td>\n",
              "      <td>1800.0</td>\n",
              "      <td>800.0</td>\n",
              "    </tr>\n",
              "    <tr>\n",
              "      <th>May</th>\n",
              "      <td>800.0</td>\n",
              "      <td>1030.8</td>\n",
              "      <td>800.0</td>\n",
              "      <td>1300.0</td>\n",
              "      <td>800.0</td>\n",
              "    </tr>\n",
              "    <tr>\n",
              "      <th>Jun</th>\n",
              "      <td>800.0</td>\n",
              "      <td>800.0</td>\n",
              "      <td>800.0</td>\n",
              "      <td>800.0</td>\n",
              "      <td>800.0</td>\n",
              "    </tr>\n",
              "  </tbody>\n",
              "</table>\n",
              "</div>"
            ],
            "text/plain": [
              "      VEG1    VEG2   OIL1    OIL2    OIL3\n",
              "Jan  800.0   569.2  800.0   300.0  1000.0\n",
              "Feb  800.0   507.7  800.0     0.0   800.0\n",
              "Mar  800.0  1492.3  800.0  2300.0   800.0\n",
              "Apr  800.0  1261.5  800.0  1800.0   800.0\n",
              "May  800.0  1030.8  800.0  1300.0   800.0\n",
              "Jun  800.0   800.0  800.0   800.0   800.0"
            ]
          },
          "metadata": {
            "tags": []
          },
          "execution_count": 150
        }
      ]
    }
  ]
}